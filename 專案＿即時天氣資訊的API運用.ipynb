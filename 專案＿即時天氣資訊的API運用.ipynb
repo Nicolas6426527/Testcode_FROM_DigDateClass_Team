{
 "cells": [
  {
   "cell_type": "code",
   "execution_count": 8,
   "metadata": {},
   "outputs": [],
   "source": [
    "import sys\n",
    "sys.path.append(\"/Users/Apple/pyds/lib/python3.8/site-packages\")\n",
    "import numpy  as np\n",
    "import pandas as pd\n",
    "import xml.etree.ElementTree as ET \n",
    "import datetime"
   ]
  },
  {
   "cell_type": "markdown",
   "metadata": {},
   "source": [
    "### 預報更新5時0分左右、上午11時0分左右、下午5時0分左右、及晚上11時0分左右更新台灣各地天氣預報，真正發布時間會在主要發布時間前後1小時之內發布"
   ]
  },
  {
   "cell_type": "code",
   "execution_count": 9,
   "metadata": {},
   "outputs": [],
   "source": [
    "#各地區\n",
    "dataPath  = [\"63_Weekday_CH.xml\", \n",
    "\"64_Weekday_CH.xml\",\n",
    "\"65_Weekday_CH.xml\",\n",
    "\"66_Weekday_CH.xml\",\n",
    "\"67_Weekday_CH.xml\",\n",
    "\"68_Weekday_CH.xml\",\n",
    "\"10002_Weekday_CH.xml\",\n",
    "\"10004_Weekday_CH.xml\",\n",
    "\"10005_Weekday_CH.xml\",\n",
    "\"10007_Weekday_CH.xml\",\n",
    "\"10008_Weekday_CH.xml\",\n",
    "\"10009_Weekday_CH.xml\",\n",
    "\"10010_Weekday_CH.xml\",\n",
    "\"10013_Weekday_CH.xml\",\n",
    "\"10017_Weekday_CH.xml\",\n",
    "\"10018_Weekday_CH.xml\"]\n",
    "country1=[]\n",
    "value1=[]"
   ]
  },
  {
   "cell_type": "code",
   "execution_count": 10,
   "metadata": {},
   "outputs": [],
   "source": [
    "def gettime(rootweekday):\n",
    "    time=[]\n",
    "    for x in rootweekday[8][1][1][13][2:]:\n",
    "        start = x[0].text\n",
    "        end = x[1].text\n",
    "        time.append(start+\"~~\"+end)\n",
    "    \n",
    "    return time"
   ]
  },
  {
   "cell_type": "code",
   "execution_count": 11,
   "metadata": {},
   "outputs": [],
   "source": [
    "def getcountry(rootweekday):\n",
    "    countryplace =[]\n",
    "    for x in rootweekday[8][1][1:]:\n",
    "        place=x[0].text\n",
    "        countryplace.append(place)\n",
    "        \n",
    "    return countryplace"
   ]
  },
  {
   "cell_type": "code",
   "execution_count": 12,
   "metadata": {},
   "outputs": [],
   "source": [
    "def getvalue(rootweekday):\n",
    "    value =[]\n",
    "    for x in rootweekday[8][1][1:]:\n",
    "        for j in x[13][2:]:\n",
    "            z=j[2][0].text+\"%\"\n",
    "            value.append(z)\n",
    "            \n",
    "    return value"
   ]
  },
  {
   "cell_type": "code",
   "execution_count": 13,
   "metadata": {},
   "outputs": [],
   "source": [
    "if __name__ == '__main__':\n",
    "    #today = datetime.date.today().strftime('%Y%m%d')\n",
    "    for i in dataPath:\n",
    "        #treeweekday=ET.parse(f'/Users/Apple/proJectDO/{today}/{i}')\n",
    "        treeweekday=ET.parse(f'/Users/Apple/proJectDO/F-D0047-093/{i}')\n",
    "        rootweekday = treeweekday.getroot()\n",
    "        #print(rootweekday)\n",
    "        time=gettime(rootweekday)\n",
    "        country= getcountry(rootweekday)\n",
    "        country1.extend(country)\n",
    "        value=getvalue(rootweekday)\n",
    "        value1.extend(value)\n",
    "        \n",
    "dfweather=pd.DataFrame(np.array(value1).reshape((len(country1),len(time)),order=\"C\"),index=country1,columns=time)\n",
    "dfdoor = pd.read_csv(\"/Users/Apple/proJectDO/ALLnew.csv\")\n",
    "pd.merge(dfdoor,dfweather,left_on=\"city\",right_index=True,how=\"left\").to_csv(\"即時降雨率.csv\",index=False)"
   ]
  },
  {
   "cell_type": "markdown",
   "metadata": {},
   "source": [
    "### 氣象授權碼"
   ]
  },
  {
   "cell_type": "code",
   "execution_count": 3,
   "metadata": {},
   "outputs": [
    {
     "ename": "SyntaxError",
     "evalue": "invalid syntax (<ipython-input-3-c55f965c29f7>, line 1)",
     "output_type": "error",
     "traceback": [
      "\u001b[0;36m  File \u001b[0;32m\"<ipython-input-3-c55f965c29f7>\"\u001b[0;36m, line \u001b[0;32m1\u001b[0m\n\u001b[0;31m    https://opendata.cwb.gov.tw/fileapi/v1/opendataapi/O-A0002-001?Authorization=rdec-key-123-45678-011121314&format=XML\u001b[0m\n\u001b[0m          ^\u001b[0m\n\u001b[0;31mSyntaxError\u001b[0m\u001b[0;31m:\u001b[0m invalid syntax\n"
     ]
    }
   ],
   "source": [
    "https://opendata.cwb.gov.tw/fileapi/v1/opendataapi/O-A0002-001?Authorization=rdec-key-123-45678-011121314&format=XML"
   ]
  },
  {
   "cell_type": "code",
   "execution_count": 1,
   "metadata": {},
   "outputs": [],
   "source": [
    "https://agridata.coa.gov.tw/openapi/api/v1/CropType?Authorization\n",
    "UC9JPUOMBCPQRJ7SCBB9HM47IGSKNS"
   ]
  },
  {
   "cell_type": "code",
   "execution_count": 12,
   "metadata": {},
   "outputs": [],
   "source": [
    "import requests\n",
    "r =requests.get(\"https://agridata.coa.gov.tw/openapi/CropType?Authorization＝UC9JPUOMBCPQRJ7SCBB9HM47IGSKNS&format=JSON\",verify=False)\n",
    "#list_of_dicts = r.json()"
   ]
  }
 ],
 "metadata": {
  "kernelspec": {
   "display_name": "Python 3",
   "language": "python",
   "name": "python3"
  },
  "language_info": {
   "codemirror_mode": {
    "name": "ipython",
    "version": 3
   },
   "file_extension": ".py",
   "mimetype": "text/x-python",
   "name": "python",
   "nbconvert_exporter": "python",
   "pygments_lexer": "ipython3",
   "version": "3.8.1"
  }
 },
 "nbformat": 4,
 "nbformat_minor": 4
}
