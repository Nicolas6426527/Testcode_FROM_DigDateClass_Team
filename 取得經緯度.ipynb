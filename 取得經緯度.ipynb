{
 "cells": [
  {
   "cell_type": "markdown",
   "metadata": {},
   "source": [
    "###### fake agent擋阻擋用api"
   ]
  },
  {
   "cell_type": "code",
   "execution_count": 1,
   "metadata": {},
   "outputs": [],
   "source": [
    "import sys\n",
    "sys.path.append(\"/Users/Apple/pyds/lib/python3.8/site-packages\")\n",
    "import requests\n",
    "import time\n",
    "from selenium import webdriver\n",
    "from selenium.webdriver.support.ui import Select\n",
    "from bs4 import BeautifulSoup\n",
    "import pandas as pd\n",
    "import numpy as np\n",
    "import xlrd\n",
    "\n",
    "# 處理逾時例外的工具\n",
    "from selenium.common.exceptions import TimeoutException\n",
    "\n",
    "# 面對動態網頁，等待某個元素出現的工具，通常與 exptected_conditions 搭配\n",
    "from selenium.webdriver.support.ui import WebDriverWait\n",
    "\n",
    "# 搭配 WebDriverWait 使用，對元素狀態的一種期待條件，若條件發生，則等待結束，往下一行執行\n",
    "from selenium.webdriver.support import expected_conditions as EC\n",
    "\n",
    "# 期待元素出現要透過什麼方式指定，通常與 EC、WebDriverWait 一起使用\n",
    "from selenium.webdriver.common.by import By\n",
    "\n",
    "#右鍵操作\n",
    "from selenium.webdriver import ActionChains#模擬鼠標操作\n",
    "import pyautogui#鍵盤、鼠標操作"
   ]
  },
  {
   "cell_type": "code",
   "execution_count": 176,
   "metadata": {},
   "outputs": [],
   "source": [
    "df1=pd.read_csv(\"新北市醫院.csv\",index_col=False)"
   ]
  },
  {
   "cell_type": "code",
   "execution_count": null,
   "metadata": {},
   "outputs": [],
   "source": [
    "df1"
   ]
  },
  {
   "cell_type": "markdown",
   "metadata": {},
   "source": [
    "### 直轄市才可用"
   ]
  },
  {
   "cell_type": "code",
   "execution_count": 178,
   "metadata": {},
   "outputs": [],
   "source": [
    "city_county1=df1[\"地址\"].str.split(\"區\",expand=True)[0].str.split(\"市\",expand=True)\n",
    "new1 = df1[\"地址\"].str.split(\"區\",expand=True)[1]#Series"
   ]
  },
  {
   "cell_type": "code",
   "execution_count": 180,
   "metadata": {},
   "outputs": [],
   "source": [
    "#市/區的處理\n",
    "city1=[]\n",
    "country1=[]\n",
    "for  i , z in zip(city_county1[0],city_county1[1]):\n",
    "    x=i+\"市\"\n",
    "    y=z+\"區\"\n",
    "    city1.append(x)\n",
    "    country1.append(y)\n",
    "all1 = np.transpose(df1[\"地址\"].values).tolist() "
   ]
  },
  {
   "cell_type": "code",
   "execution_count": 181,
   "metadata": {},
   "outputs": [],
   "source": [
    "#以切\n",
    "stree1=[]\n",
    "number1=[]\n",
    "error1=[]#重新調整迴圈\n",
    "for  i in range(len(new1)) :\n",
    "    if \"里\" in new1[i]:\n",
    "        stree_number=new1[i].split(\"里\",expand=True)[1]\n",
    "        if \"路\" and \"段\" in stree_number:\n",
    "            x=stree_number.split(\"段\")\n",
    "            ystree=x[0]+\"段\"\n",
    "            znumber=x[1].split(\"號\")[0]\n",
    "        \n",
    "        \n",
    "        elif \"路\" in stree_number:\n",
    "            x=stree_number.split(\"路\")\n",
    "            ystree=x[0]+\"路\"\n",
    "            znumber=x[1].split(\"號\")[0]\n",
    "        \n",
    "        elif \"段\" in stree_number:\n",
    "            x=stree_number.split(\"段\")\n",
    "            ystree=x[0]+\"段\"\n",
    "            znumber=x[1].split(\"號\")[0]\n",
    "        \n",
    "        elif \"街\" in stree_number:\n",
    "            x=stree_number.split(\"街\")\n",
    "            ystree=x[0]+\"街\"\n",
    "            znumber=x[1].split(\"號\")[0]\n",
    "        else:\n",
    "            k1=stree_number\n",
    "\n",
    "    else:\n",
    "        if \"路\" and \"段\" in new1[i]:\n",
    "            x=new1[i].split(\"段\")\n",
    "            ystree=x[0]+\"段\"\n",
    "            znumber=x[1].split(\"號\")[0]\n",
    "        elif \"路\" in new1[i]:\n",
    "            x=new1[i].split(\"路\")\n",
    "            ystree=x[0]+\"路\"\n",
    "            znumber=x[1].split(\"號\")[0]\n",
    "        \n",
    "        elif \"段\" in new1[i]:\n",
    "            x=new1[i].split(\"段\")\n",
    "            ystree=x[0]+\"段\"\n",
    "            znumber=x[1].split(\"號\")[0]\n",
    "        \n",
    "        elif \"街\" in new1[i]:\n",
    "            x=new1[i].split(\"街\")\n",
    "            ystree=x[0]+\"街\"\n",
    "            znumber=x[1].split(\"號\")[0]\n",
    "        elif \"腳\" in new1[i]:\n",
    "            f1=new1[i].split(\"腳\")\n",
    "            ystree=f1[0]+\"腳\"\n",
    "            znumber=f1[1].split(\"號\")[0]\n",
    "        elif \"山\" in new1[i]:\n",
    "            f1=new1[i].split(\"山\")\n",
    "            ystree=f1[0]+\"山\"\n",
    "            znumber=f1[1].split(\"號\")[0]\n",
    "        else:\n",
    "            e1=new1[i].split(\"號\")[0]\n",
    "            print(e1)\n",
    "               \n",
    "    stree1.append(ystree)\n",
    "    number1.append(znumber)\n",
    "    error1.append(e1)\n",
    "            \n",
    "    \n",
    "    "
   ]
  },
  {
   "cell_type": "code",
   "execution_count": 182,
   "metadata": {},
   "outputs": [
    {
     "data": {
      "text/plain": [
       "Index(['醫院', '縣市別', '鄉鎮市區', '地址'], dtype='object')"
      ]
     },
     "execution_count": 182,
     "metadata": {},
     "output_type": "execute_result"
    }
   ],
   "source": [
    "df1.columns"
   ]
  },
  {
   "cell_type": "code",
   "execution_count": 183,
   "metadata": {},
   "outputs": [],
   "source": [
    "df2 = pd.DataFrame({\"地址\":all1,\"縣市別\":city1,\"鄉鎮市區\":country1,\"道路\":stree1,\"號\":number1})"
   ]
  },
  {
   "cell_type": "code",
   "execution_count": 184,
   "metadata": {},
   "outputs": [
    {
     "data": {
      "text/html": [
       "<div>\n",
       "<style scoped>\n",
       "    .dataframe tbody tr th:only-of-type {\n",
       "        vertical-align: middle;\n",
       "    }\n",
       "\n",
       "    .dataframe tbody tr th {\n",
       "        vertical-align: top;\n",
       "    }\n",
       "\n",
       "    .dataframe thead th {\n",
       "        text-align: right;\n",
       "    }\n",
       "</style>\n",
       "<table border=\"1\" class=\"dataframe\">\n",
       "  <thead>\n",
       "    <tr style=\"text-align: right;\">\n",
       "      <th></th>\n",
       "      <th>地址</th>\n",
       "      <th>縣市別</th>\n",
       "      <th>鄉鎮市區</th>\n",
       "      <th>道路</th>\n",
       "      <th>號</th>\n",
       "    </tr>\n",
       "  </thead>\n",
       "  <tbody>\n",
       "    <tr>\n",
       "      <th>0</th>\n",
       "      <td>臺北市中山區林森北路530號</td>\n",
       "      <td>臺北市</td>\n",
       "      <td>中山區</td>\n",
       "      <td>林森北路</td>\n",
       "      <td>530</td>\n",
       "    </tr>\n",
       "    <tr>\n",
       "      <th>1</th>\n",
       "      <td>臺北市中山區中山北路二段92號</td>\n",
       "      <td>臺北市</td>\n",
       "      <td>中山區</td>\n",
       "      <td>中山北路二段</td>\n",
       "      <td>92</td>\n",
       "    </tr>\n",
       "    <tr>\n",
       "      <th>2</th>\n",
       "      <td>臺北市萬華區廣州街200號</td>\n",
       "      <td>臺北市</td>\n",
       "      <td>萬華區</td>\n",
       "      <td>廣州街</td>\n",
       "      <td>200</td>\n",
       "    </tr>\n",
       "    <tr>\n",
       "      <th>3</th>\n",
       "      <td>臺北市萬華區康定路37號</td>\n",
       "      <td>臺北市</td>\n",
       "      <td>萬華區</td>\n",
       "      <td>康定路</td>\n",
       "      <td>37</td>\n",
       "    </tr>\n",
       "    <tr>\n",
       "      <th>4</th>\n",
       "      <td>臺北市萬華區西園路二段270號</td>\n",
       "      <td>臺北市</td>\n",
       "      <td>萬華區</td>\n",
       "      <td>西園路二段</td>\n",
       "      <td>270</td>\n",
       "    </tr>\n",
       "  </tbody>\n",
       "</table>\n",
       "</div>"
      ],
      "text/plain": [
       "                地址  縣市別 鄉鎮市區      道路    號\n",
       "0   臺北市中山區林森北路530號  臺北市  中山區    林森北路  530\n",
       "1  臺北市中山區中山北路二段92號  臺北市  中山區  中山北路二段   92\n",
       "2    臺北市萬華區廣州街200號  臺北市  萬華區     廣州街  200\n",
       "3     臺北市萬華區康定路37號  臺北市  萬華區     康定路   37\n",
       "4  臺北市萬華區西園路二段270號  臺北市  萬華區   西園路二段  270"
      ]
     },
     "execution_count": 184,
     "metadata": {},
     "output_type": "execute_result"
    }
   ],
   "source": [
    "df2.head()"
   ]
  },
  {
   "cell_type": "code",
   "execution_count": 185,
   "metadata": {},
   "outputs": [],
   "source": [
    "lat1=[]#緯度25\n",
    "log1=[]#經度121"
   ]
  },
  {
   "cell_type": "markdown",
   "metadata": {},
   "source": [
    "## 進入網頁"
   ]
  },
  {
   "cell_type": "code",
   "execution_count": 243,
   "metadata": {},
   "outputs": [],
   "source": [
    "options = webdriver.ChromeOptions()\n",
    "browser =  webdriver.Chrome(\"/Users/Apple/pyds/chromedriver\",options=options)\n",
    "wait = ui.WebDriverWait(browser,10)#10秒内每隔500毫秒扫描1次页面变化"
   ]
  },
  {
   "cell_type": "code",
   "execution_count": 244,
   "metadata": {},
   "outputs": [],
   "source": [
    "browser.get(\"https://easymap.land.moi.gov.tw/R02/Index\")"
   ]
  },
  {
   "cell_type": "code",
   "execution_count": 245,
   "metadata": {},
   "outputs": [],
   "source": [
    "noshowagain=browser.find_element_by_css_selector(\"#notShowSysinfo_id\")\n",
    "webdriver.ActionChains(browser).move_to_element(noshowagain).click(noshowagain).perform()#不在顯示\n",
    "browser.find_element_by_xpath(\"/html/body/div[1]/div/div[1]/div/ul/li[2]/img\").click()\n",
    "time.sleep(2)\n",
    "Select(browser.find_element_by_id(\"doorPlateTypeId\")).select_by_value(\"B\")#value=B 戶政門牌\n",
    "time.sleep(1)\n",
    "Select(browser.find_element_by_id(\"select_city_id1\")).select_by_visible_text(city1[0])#縣市\n",
    "time.sleep(1)"
   ]
  },
  {
   "cell_type": "code",
   "execution_count": 251,
   "metadata": {},
   "outputs": [
    {
     "name": "stdout",
     "output_type": "stream",
     "text": [
      "25.04145,121.51720\n",
      "25.01652,121.52990\n",
      "25.03561,121.50672\n",
      "25.04439,121.51877\n",
      "25.04080,121.51857\n",
      "25.05030,121.53395\n",
      "25.05891,121.52257\n",
      "25.01452,121.54393\n",
      "\n",
      "25.04314,121.55687\n",
      "25.03852,121.54704\n",
      "25.03697,121.55371\n",
      "25.03658,121.54972\n",
      "25.03757,121.54531\n",
      "25.05072,121.50890\n",
      "25.10522,121.53158\n",
      "25.09627,121.52030\n",
      "25.03689,121.49801\n"
     ]
    }
   ],
   "source": [
    "way1=[]\n",
    "for i ,j ,k in zip(country1[24:],stree1[24:],number1[24:]):\n",
    "    #鄉鎮市區\n",
    "    Select(browser.find_element_by_id(\"select_town_id1\")).select_by_visible_text(i)\n",
    "    time.sleep(3)\n",
    "    #路名\n",
    "    wait.until(lambda browser: browser.find_element_by_id(\"select_road_id\"))\n",
    "    Select(browser.find_element_by_id(\"select_road_id\")).select_by_visible_text(j)\n",
    "    time.sleep(3)\n",
    "    #輸入縣市\n",
    "    code=browser.find_element_by_id(\"doorNoId\")\n",
    "    code.clear()\n",
    "    code.send_keys(k)\n",
    "    time.sleep(1)\n",
    "    #點擊搜尋\n",
    "    wait.until(lambda browser: browser.find_element_by_css_selector(\"#door_botton\"))\n",
    "    element1=browser.find_element_by_css_selector(\"#door_botton\")#解決無法點擊\n",
    "    webdriver.ActionChains(browser).move_to_element(element1).click(element1).perform()#解決無法點擊(元素截獲異常，該元素不支援點擊)\n",
    "    time.sleep(13)\n",
    "    #右鍵點擊圖標，第二個是座標\n",
    "    wait.until(lambda browser: browser.find_element_by_css_selector(\"#OpenLayers\\.Layer\\.Vector_28_vroot\"))\n",
    "    logo = browser.find_element_by_css_selector(\"#OpenLayers\\.Layer\\.Vector_28_vroot\")  \n",
    "    rightClick = ActionChains(browser)  # 實例化ActionChains類\n",
    "    rightClick.context_click(logo).perform()  \n",
    "    time.sleep(1)\n",
    "    pyautogui.typewrite(['down'])  # 選中右鍵菜單中第1個選項\n",
    "    pyautogui.typewrite(['return']) \n",
    "    time.sleep(2)\n",
    "    y=browser.find_element_by_css_selector(\"#coordDisplayLonLat\").text\n",
    "    print(y)\n",
    "    #放入座標\n",
    "    way1.append(y)\n",
    "    #點除浮動頁面\n",
    "    enter1 = browser.find_element_by_css_selector(\"#btnLeftClickCoordDisplayId\")\n",
    "    browser.execute_script(\"arguments[0].click();\",enter1)#解決javascriptExecption\n",
    "    time.sleep(10)\n",
    "    \n",
    "    \n"
   ]
  },
  {
   "cell_type": "code",
   "execution_count": 271,
   "metadata": {},
   "outputs": [],
   "source": [
    "#把座標拆分成經緯度\n",
    "for i in  getway:\n",
    "    x=i.split(\",\")\n",
    "    lat1.append(x[0])\n",
    "    log1.append(x[1])"
   ]
  },
  {
   "cell_type": "code",
   "execution_count": 276,
   "metadata": {},
   "outputs": [],
   "source": [
    "df1[\"緯度\"]=lat1\n",
    "df1[\"經度\"]=log1"
   ]
  },
  {
   "cell_type": "code",
   "execution_count": 278,
   "metadata": {},
   "outputs": [],
   "source": [
    "df1.to_csv(\"臺北市醫院經緯度版.csv\",index=False)"
   ]
  },
  {
   "cell_type": "code",
   "execution_count": null,
   "metadata": {},
   "outputs": [],
   "source": []
  }
 ],
 "metadata": {
  "kernelspec": {
   "display_name": "Python 3",
   "language": "python",
   "name": "python3"
  },
  "language_info": {
   "codemirror_mode": {
    "name": "ipython",
    "version": 3
   },
   "file_extension": ".py",
   "mimetype": "text/x-python",
   "name": "python",
   "nbconvert_exporter": "python",
   "pygments_lexer": "ipython3",
   "version": "3.8.1"
  }
 },
 "nbformat": 4,
 "nbformat_minor": 4
}
