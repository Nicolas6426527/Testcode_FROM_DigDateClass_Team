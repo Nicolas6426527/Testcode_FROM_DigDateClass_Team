{
 "cells": [
  {
   "cell_type": "code",
   "execution_count": 29,
   "metadata": {},
   "outputs": [],
   "source": [
    "import sys\n",
    "sys.path.append(\"/Users/Apple/pyds/lib/python3.8/site-packages\")\n",
    "import numpy  as np\n",
    "import pandas as pd\n",
    "import os\n",
    "import datetime"
   ]
  },
  {
   "cell_type": "code",
   "execution_count": 25,
   "metadata": {},
   "outputs": [],
   "source": [
    "dates = pd.date_range(\"2019-01-01\", \"2020-12-31\").strftime(\"%Y%m%d\").to_list()"
   ]
  },
  {
   "cell_type": "code",
   "execution_count": 24,
   "metadata": {},
   "outputs": [],
   "source": [
    "date1 = pd.date_range(\"2019-01-01\", \"2020-12-31\").strftime(\"%Y-%m-%d\").to_list()"
   ]
  },
  {
   "cell_type": "code",
   "execution_count": 4,
   "metadata": {},
   "outputs": [],
   "source": [
    "Allplace=sorted(os.listdir(\"/Users/Apple/proJectDO/WeatherPlaceNEW/\"))"
   ]
  },
  {
   "cell_type": "code",
   "execution_count": 12,
   "metadata": {},
   "outputs": [],
   "source": [
    "for i in Allplace:\n",
    "    getvalue =[]\n",
    "    try:\n",
    "        for j in date1:\n",
    "            df=pd.read_csv(f\"/Users/Apple/proJectDO/weatherPlaceNEW/{i}/{i}-{j}.csv\")\n",
    "            zrain =list(df.iloc[1:,10])\n",
    "            getvalue.extend(zrain)\n",
    "            \n",
    "\n",
    "        rain = pd.Series(getvalue).replace(\"T\" ,0).replace(\"X\",0).replace('...',0).astype(\"float64\")\n",
    "        rain3hr=get3hr(rain)\n",
    "        rainhr = gethr(rain)\n",
    "        rain24hr = get24hr(rain)\n",
    "        rainEND = getAns(rainhr,rain3hr,rain24hr)\n",
    "        df =pd.DataFrame(np.array(rainEND).reshape((len(dates),24),order=\"C\"),index=dates)\n",
    "        df.to_csv(f'/Users/Apple/proJectDO/door_place_compare/天氣定義資訊2019_2020/rainMine/{i}.csv')\n",
    "        \n",
    "    except Exception as e:\n",
    "        print(i)\n",
    "        print(e)"
   ]
  },
  {
   "cell_type": "code",
   "execution_count": 13,
   "metadata": {},
   "outputs": [],
   "source": [
    "def get3hr(rain):\n",
    "    rainsum=rain.rolling(3).sum().fillna(1)\n",
    "    #n0 三小時分類\n",
    "    a=[]\n",
    "    for  i  in rainsum:\n",
    "        if i == 0.0:\n",
    "            x=0\n",
    "            a.append(x)\n",
    "        elif i < 100:\n",
    "            x=1\n",
    "            a.append(x)\n",
    "        elif i < 200:\n",
    "            x=3\n",
    "            a.append(x)\n",
    "        else :\n",
    "            x=4\n",
    "            a.append(x)\n",
    "    rain3hr = pd.Series(a) \n",
    "    return rain3hr"
   ]
  },
  {
   "cell_type": "code",
   "execution_count": 14,
   "metadata": {},
   "outputs": [],
   "source": [
    "#每小時分類\n",
    "def gethr(rain):\n",
    "    b=[]\n",
    "    for  i in rain :\n",
    "        if i ==0.0 :\n",
    "            x=0\n",
    "            b.append(x)\n",
    "        elif i < 40 :\n",
    "            x=1\n",
    "            b.append(x)\n",
    "        else :\n",
    "            x=2\n",
    "            b.append(x)\n",
    "\n",
    "    rainhr = pd.Series(b) \n",
    "    return rainhr "
   ]
  },
  {
   "cell_type": "code",
   "execution_count": 15,
   "metadata": {},
   "outputs": [],
   "source": [
    "\n",
    "#24hr\n",
    "def get24hr(rain):\n",
    "    c=[]\n",
    "    rainNP=rain.values.reshape(len(dates),24).sum(axis=1)\n",
    "    for  i in rainNP:\n",
    "        if i ==0.0:\n",
    "            x=[0]*24\n",
    "            c.extend(x)\n",
    "        elif i < 80 :\n",
    "            x=[1]*24\n",
    "            c.extend(x)\n",
    "        elif i < 200 :\n",
    "            x=[2]*24\n",
    "            c.extend(x)\n",
    "        elif i < 350 :\n",
    "            x=[3]*24\n",
    "            c.extend(x)\n",
    "        elif i <500 :\n",
    "            x = [4]*24\n",
    "            c.extend(x)\n",
    "        else :\n",
    "            x =[5]*24\n",
    "            c.extend(x)\n",
    "    rain24hr = pd.Series(c)\n",
    "    \n",
    "    return rain24hr"
   ]
  },
  {
   "cell_type": "code",
   "execution_count": 16,
   "metadata": {},
   "outputs": [],
   "source": [
    "\n",
    "#三小時分類 VS 每小時分類\n",
    "def getAns(rainhr ,rain3hr,rain24r):\n",
    "    rainC1 =[]\n",
    "    for i ,j  in zip(rainhr,rain3hr):\n",
    "        if (i==0 or j==0):\n",
    "            x=0\n",
    "            rainC1.append(x)\n",
    "        elif i > j :\n",
    "            rainC1.append(i)\n",
    "        elif i < j:\n",
    "            rainC1.append(j)\n",
    "        else :\n",
    "            rainC1.append(i)\n",
    "     #在跟每天比對\n",
    "    rainC2 = []\n",
    "    for i ,j in zip(rainC1,rain24hr):\n",
    "        if (i==0 or j==0):\n",
    "            x=0\n",
    "            rainC2.append(x)\n",
    "        elif i > j :\n",
    "            rainC2.append(i)\n",
    "        elif i < j:\n",
    "            rainC2.append(j)\n",
    "        else:\n",
    "            rainC2.append(i)\n",
    "    \n",
    "    return rainC2\n"
   ]
  },
  {
   "cell_type": "markdown",
   "metadata": {},
   "source": [
    "### 風速定義"
   ]
  },
  {
   "cell_type": "code",
   "execution_count": 20,
   "metadata": {},
   "outputs": [],
   "source": [
    "def getcloudy(cloudy):\n",
    "    cloudyT = pd.Series(cloudy).replace(\"T\" ,np.nan).replace(\"X\",np.nan).replace('...',np.nan).replace(\"/\",np.nan).fillna(method=\"bfill\").astype(\"float64\")\n",
    "    d =[]\n",
    "    for i in cloudyT:\n",
    "        if i <= 1.5 :\n",
    "            x=0\n",
    "            d.append(x)\n",
    "        elif i <= 5.4 :\n",
    "            x=1\n",
    "            d.append(x)\n",
    "        \n",
    "        elif i <= 10.7:\n",
    "            x=2\n",
    "            d.append(x)\n",
    "       \n",
    "        elif i <= 17.1:\n",
    "            x=3\n",
    "            d.append(x)\n",
    "        \n",
    "        elif i <= 24.4:\n",
    "            x =4\n",
    "            d.append(x)\n",
    "       \n",
    "        elif i <=32.6:\n",
    "            x=5\n",
    "            d.append(x)\n",
    "        else:\n",
    "            x=6\n",
    "            d.append(x)\n",
    "        \n",
    "    return d"
   ]
  },
  {
   "cell_type": "code",
   "execution_count": 6,
   "metadata": {},
   "outputs": [],
   "source": [
    "for i in Allplace:\n",
    "    getvalue =[]\n",
    "    try:\n",
    "        for j in date1:\n",
    "            df=pd.read_csv(f\"/Users/Apple/proJectDO/weatherPlace/{i}/{i}-{j}.csv\")\n",
    "            ycloudy=list(df.iloc[1:,6])\n",
    "            getvalue.extend(ycloudy)\n",
    "\n",
    "        cloudy = getcloudy(getvalue)\n",
    "        df =pd.DataFrame(np.array(cloudy).reshape((len(date1),24),order=\"C\"),index=dates)\n",
    "        df.to_csv(f'/Users/Apple/proJectDO/door_place_compare/天氣定義資訊2019_2020/cloudyMine/{i}.csv')\n",
    "        \n",
    "    except Exception as e:\n",
    "        print(i)\n",
    "        print(e)"
   ]
  },
  {
   "cell_type": "code",
   "execution_count": 28,
   "metadata": {},
   "outputs": [],
   "source": [
    "getvalue=[]\n",
    "for j in date1:\n",
    "    df=pd.read_csv(f\"/Users/Apple/proJectDO/weatherPlaceNew/C0G660/C0G660-{j}.csv\")\n",
    "    ycloudy=list(df.iloc[1:,6])\n",
    "    getvalue.extend(ycloudy)\n",
    "\n",
    "cloudy = getcloudy(getvalue)\n",
    "df =pd.DataFrame(np.array(cloudy).reshape((len(dates),24),order=\"C\"),index=dates)\n",
    "df.to_csv(f'/Users/Apple/proJectDO/door_place_compare/天氣定義資訊2019_2020/cloudyMine/COG660.csv')\n",
    "        "
   ]
  },
  {
   "cell_type": "markdown",
   "metadata": {},
   "source": [
    "### 氣溫"
   ]
  },
  {
   "cell_type": "code",
   "execution_count": 14,
   "metadata": {},
   "outputs": [],
   "source": [
    "for i in Allplace:\n",
    "    getvalue =[]\n",
    "    try:\n",
    "        for j in date1:\n",
    "            df=pd.read_csv(f\"/Users/Apple/proJectDO/weatherPlace/{i}/{i}-{j}.csv\")\n",
    "            xdegree =list(df.iloc[1:,3])\n",
    "            getvalue.extend(xdegree)\n",
    "            \n",
    "        Ser=pd.Series(getvalue).replace(\"T\",np.nan).replace(\"X\",np.nan).replace('...',np.nan).replace(\"/\",np.nan).fillna(method=\"bfill\").astype(\"float64\").to_list()\n",
    "        df =pd.DataFrame(np.array(Ser).reshape((len(dates),24),order=\"C\"),index=dates)\n",
    "        df.to_csv(f'/Users/Apple/proJectDO/door_place_compare/天氣定義資訊2019_2020/degreeMine/{i}.csv')\n",
    "        \n",
    "    except Exception as e:\n",
    "        print(i)\n",
    "        print(e)\n",
    "        "
   ]
  },
  {
   "cell_type": "code",
   "execution_count": null,
   "metadata": {},
   "outputs": [],
   "source": []
  }
 ],
 "metadata": {
  "kernelspec": {
   "display_name": "Python 3",
   "language": "python",
   "name": "python3"
  },
  "language_info": {
   "codemirror_mode": {
    "name": "ipython",
    "version": 3
   },
   "file_extension": ".py",
   "mimetype": "text/x-python",
   "name": "python",
   "nbconvert_exporter": "python",
   "pygments_lexer": "ipython3",
   "version": "3.8.1"
  }
 },
 "nbformat": 4,
 "nbformat_minor": 4
}
